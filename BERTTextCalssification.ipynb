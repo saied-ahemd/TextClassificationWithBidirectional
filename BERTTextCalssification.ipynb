{
  "nbformat": 4,
  "nbformat_minor": 0,
  "metadata": {
    "colab": {
      "name": "BERTTextCalssification.ipynb",
      "provenance": [],
      "collapsed_sections": [],
      "mount_file_id": "1tS-uxGFDVuegHKmZV8qra9DJlCJ9m40T",
      "authorship_tag": "ABX9TyME+bvlUnmza6bxrc0w6zc9"
    },
    "kernelspec": {
      "name": "python3",
      "display_name": "Python 3"
    },
    "accelerator": "GPU"
  },
  "cells": [
    {
      "cell_type": "code",
      "metadata": {
        "id": "oylGzQIhJyb0",
        "colab": {
          "base_uri": "https://localhost:8080/"
        },
        "outputId": "d4300ce5-7a87-413d-d522-218006a8e47e"
      },
      "source": [
        "#  A dependency of the preprocessing for BERT inputs\r\n",
        "!pip install -q tensorflow-text"
      ],
      "execution_count": 1,
      "outputs": [
        {
          "output_type": "stream",
          "text": [
            "\u001b[K     |████████████████████████████████| 3.4MB 7.2MB/s \n",
            "\u001b[?25h"
          ],
          "name": "stdout"
        }
      ]
    },
    {
      "cell_type": "code",
      "metadata": {
        "id": "Fa0WolZV7pF3",
        "colab": {
          "base_uri": "https://localhost:8080/"
        },
        "outputId": "24c8f131-9a06-4ae2-c97c-a68b676a2aac"
      },
      "source": [
        "# You will use the AdamW optimizer from tensorflow/models so i will donload the models\r\n",
        "!pip install -q tf-models-official"
      ],
      "execution_count": 2,
      "outputs": [
        {
          "output_type": "stream",
          "text": [
            "\u001b[K     |████████████████████████████████| 1.1MB 8.0MB/s \n",
            "\u001b[K     |████████████████████████████████| 37.6MB 83kB/s \n",
            "\u001b[K     |████████████████████████████████| 51kB 9.1MB/s \n",
            "\u001b[K     |████████████████████████████████| 1.2MB 57.9MB/s \n",
            "\u001b[K     |████████████████████████████████| 706kB 56.4MB/s \n",
            "\u001b[K     |████████████████████████████████| 174kB 68.1MB/s \n",
            "\u001b[K     |████████████████████████████████| 645kB 50.3MB/s \n",
            "\u001b[K     |████████████████████████████████| 102kB 16.1MB/s \n",
            "\u001b[K     |████████████████████████████████| 358kB 46.9MB/s \n",
            "\u001b[?25h  Building wheel for seqeval (setup.py) ... \u001b[?25l\u001b[?25hdone\n",
            "  Building wheel for py-cpuinfo (setup.py) ... \u001b[?25l\u001b[?25hdone\n"
          ],
          "name": "stdout"
        }
      ]
    },
    {
      "cell_type": "code",
      "metadata": {
        "id": "nlxoJcEvcB0t"
      },
      "source": [
        "import os\r\n",
        "import shutil\r\n",
        "\r\n",
        "import tensorflow as tf\r\n",
        "import tensorflow_hub as hub\r\n",
        "import tensorflow_text as text\r\n",
        "from official.nlp import optimization  # to create AdamW optmizer\r\n",
        "\r\n",
        "import matplotlib.pyplot as plt\r\n",
        "tf.get_logger().setLevel('ERROR')"
      ],
      "execution_count": 3,
      "outputs": []
    },
    {
      "cell_type": "code",
      "metadata": {
        "colab": {
          "base_uri": "https://localhost:8080/"
        },
        "id": "u-stfTUMJ73N",
        "outputId": "aee4de9c-a0fb-4825-9dc4-cc422f26c1f0"
      },
      "source": [
        "# load the data from imdb dataset and remove the shit thing from the data\r\n",
        "url = 'https://ai.stanford.edu/~amaas/data/sentiment/aclImdb_v1.tar.gz'\r\n",
        "\r\n",
        "dataset = tf.keras.utils.get_file('aclImdb_v1.tar.gz', url,\r\n",
        "                                  untar=True, cache_dir='.',\r\n",
        "                                  cache_subdir='')\r\n",
        "\r\n",
        "dataset_dir = os.path.join(os.path.dirname(dataset), 'aclImdb')\r\n",
        "\r\n",
        "train_dir = os.path.join(dataset_dir, 'train')\r\n",
        "\r\n",
        "# remove unused folders to make it easier to load the data\r\n",
        "remove_dir = os.path.join(train_dir, 'unsup')\r\n",
        "shutil.rmtree(remove_dir)"
      ],
      "execution_count": 4,
      "outputs": [
        {
          "output_type": "stream",
          "text": [
            "Downloading data from https://ai.stanford.edu/~amaas/data/sentiment/aclImdb_v1.tar.gz\n",
            "84131840/84125825 [==============================] - 1s 0us/step\n"
          ],
          "name": "stdout"
        }
      ]
    },
    {
      "cell_type": "code",
      "metadata": {
        "colab": {
          "base_uri": "https://localhost:8080/"
        },
        "id": "M3uzzNXYc6N_",
        "outputId": "2773fc66-d0f7-40f9-b6af-d2e173a68822"
      },
      "source": [
        "# Next, you will use the text_dataset_from_directory utility to create a labeled tf.data.Dataset.\r\n",
        "# The IMDB dataset has already been divided into train and test, but it lacks a validation set.\r\n",
        "#  Let's create a validation set using an 80:20 split of the training data by using the validation_split argument below.\r\n",
        "AUTOTUNE = tf.data.AUTOTUNE\r\n",
        "batch_size = 32\r\n",
        "seed = 42\r\n",
        "raw_train_ds = tf.keras.preprocessing.text_dataset_from_directory(\r\n",
        "    'aclImdb/train',\r\n",
        "    batch_size=batch_size,\r\n",
        "    validation_split=0.2,\r\n",
        "    subset='training',\r\n",
        "    seed=seed)\r\n",
        "# now i will get the class from the dic and try not to shuffle the data\r\n",
        "class_names = raw_train_ds.class_names\r\n",
        "# here i use prefetch to prepare the next element of the data \r\n",
        "train_ds = raw_train_ds.cache().prefetch(buffer_size=AUTOTUNE)\r\n",
        "\r\n",
        "# after i got the data for train now i will make the same thing for the val\r\n",
        "val_ds = tf.keras.preprocessing.text_dataset_from_directory(\r\n",
        "    'aclImdb/train',\r\n",
        "    batch_size=batch_size,\r\n",
        "    validation_split=0.2,\r\n",
        "    subset='validation',\r\n",
        "    seed=seed)\r\n",
        "# the same fucken shit as the train\r\n",
        "val_ds = val_ds.cache().prefetch(buffer_size=AUTOTUNE)\r\n",
        "\r\n",
        "# get the test data from anthour dic\r\n",
        "test_ds = tf.keras.preprocessing.text_dataset_from_directory(\r\n",
        "    'aclImdb/test',\r\n",
        "    batch_size=batch_size)\r\n",
        "\r\n",
        "test_ds = test_ds.cache().prefetch(buffer_size=AUTOTUNE)"
      ],
      "execution_count": 5,
      "outputs": [
        {
          "output_type": "stream",
          "text": [
            "Found 25000 files belonging to 2 classes.\n",
            "Using 20000 files for training.\n",
            "Found 25000 files belonging to 2 classes.\n",
            "Using 5000 files for validation.\n",
            "Found 25000 files belonging to 2 classes.\n"
          ],
          "name": "stdout"
        }
      ]
    },
    {
      "cell_type": "code",
      "metadata": {
        "colab": {
          "base_uri": "https://localhost:8080/"
        },
        "id": "OEhHU2Fagbfm",
        "outputId": "cec69982-6d39-46d4-e270-29e39673ccb0"
      },
      "source": [
        "# Let's take a look at a few reviews.\r\n",
        "for text_batch, label_batch in train_ds.take(1):\r\n",
        "  for i in range(3):\r\n",
        "    print(f'Review: {text_batch.numpy()[i]}')\r\n",
        "    label = label_batch.numpy()[i]\r\n",
        "    print(f'Label : {label} ({class_names[label]})')"
      ],
      "execution_count": 6,
      "outputs": [
        {
          "output_type": "stream",
          "text": [
            "Review: b'\"Pandemonium\" is a horror movie spoof that comes off more stupid than funny. Believe me when I tell you, I love comedies. Especially comedy spoofs. \"Airplane\", \"The Naked Gun\" trilogy, \"Blazing Saddles\", \"High Anxiety\", and \"Spaceballs\" are some of my favorite comedies that spoof a particular genre. \"Pandemonium\" is not up there with those films. Most of the scenes in this movie had me sitting there in stunned silence because the movie wasn\\'t all that funny. There are a few laughs in the film, but when you watch a comedy, you expect to laugh a lot more than a few times and that\\'s all this film has going for it. Geez, \"Scream\" had more laughs than this film and that was more of a horror film. How bizarre is that?<br /><br />*1/2 (out of four)'\n",
            "Label : 0 (neg)\n",
            "Review: b\"David Mamet is a very interesting and a very un-equal director. His first movie 'House of Games' was the one I liked best, and it set a series of films with characters whose perspective of life changes as they get into complicated situations, and so does the perspective of the viewer.<br /><br />So is 'Homicide' which from the title tries to set the mind of the viewer to the usual crime drama. The principal characters are two cops, one Jewish and one Irish who deal with a racially charged area. The murder of an old Jewish shop owner who proves to be an ancient veteran of the Israeli Independence war triggers the Jewish identity in the mind and heart of the Jewish detective.<br /><br />This is were the flaws of the film are the more obvious. The process of awakening is theatrical and hard to believe, the group of Jewish militants is operatic, and the way the detective eventually walks to the final violent confrontation is pathetic. The end of the film itself is Mamet-like smart, but disappoints from a human emotional perspective.<br /><br />Joe Mantegna and William Macy give strong performances, but the flaws of the story are too evident to be easily compensated.\"\n",
            "Label : 0 (neg)\n",
            "Review: b'Great documentary about the lives of NY firefighters during the worst terrorist attack of all time.. That reason alone is why this should be a must see collectors item.. What shocked me was not only the attacks, but the\"High Fat Diet\" and physical appearance of some of these firefighters. I think a lot of Doctors would agree with me that,in the physical shape they were in, some of these firefighters would NOT of made it to the 79th floor carrying over 60 lbs of gear. Having said that i now have a greater respect for firefighters and i realize becoming a firefighter is a life altering job. The French have a history of making great documentary\\'s and that is what this is, a Great Documentary.....'\n",
            "Label : 1 (pos)\n"
          ],
          "name": "stdout"
        }
      ]
    },
    {
      "cell_type": "code",
      "metadata": {
        "id": "JzauxMlzgn7c"
      },
      "source": [
        "# now it's time for load the model from tensorflow hub and also  the process model\r\n",
        "# here i will use this two model to fine tun the sentiment review project\r\n",
        "tfhub_handle_encoder ='https://tfhub.dev/tensorflow/small_bert/bert_en_uncased_L-4_H-512_A-8/1'\r\n",
        "tfhub_handle_preprocess ='https://tfhub.dev/tensorflow/bert_en_uncased_preprocess/3'"
      ],
      "execution_count": 7,
      "outputs": []
    },
    {
      "cell_type": "code",
      "metadata": {
        "id": "LDhtLkrmV2Rv"
      },
      "source": [
        "# now i will use hub.kerasLayer to call the process model\r\n",
        "bert_preprocess_model = hub.KerasLayer(tfhub_handle_preprocess)"
      ],
      "execution_count": 8,
      "outputs": []
    },
    {
      "cell_type": "code",
      "metadata": {
        "colab": {
          "base_uri": "https://localhost:8080/"
        },
        "id": "ialCxmtHWDn_",
        "outputId": "6f249648-df71-413f-ddc5-5d0962caf913"
      },
      "source": [
        "# Let's try the preprocessing model on some text and see the output:\r\n",
        "# what we did when we load the model that now we don't need to write any thing to process the text for us it's alraedy here\r\n",
        "text_test = ['this is such an amazing movie!']\r\n",
        "text_preprocessed = bert_preprocess_model(text_test)\r\n",
        "\r\n",
        "print(f'Keys       : {list(text_preprocessed.keys())}')\r\n",
        "print(f'Shape      : {text_preprocessed[\"input_word_ids\"].shape}')\r\n",
        "print(f'Word Ids   : {text_preprocessed[\"input_word_ids\"][0, :12]}')\r\n",
        "print(f'Input Mask : {text_preprocessed[\"input_mask\"][0, :12]}')\r\n",
        "print(f'Type Ids   : {text_preprocessed[\"input_type_ids\"][0, :12]}')"
      ],
      "execution_count": 9,
      "outputs": [
        {
          "output_type": "stream",
          "text": [
            "Keys       : ['input_word_ids', 'input_mask', 'input_type_ids']\n",
            "Shape      : (1, 128)\n",
            "Word Ids   : [ 101 2023 2003 2107 2019 6429 3185  999  102    0    0    0]\n",
            "Input Mask : [1 1 1 1 1 1 1 1 1 0 0 0]\n",
            "Type Ids   : [0 0 0 0 0 0 0 0 0 0 0 0]\n"
          ],
          "name": "stdout"
        }
      ]
    },
    {
      "cell_type": "code",
      "metadata": {
        "id": "7iI7EYNkWxec"
      },
      "source": [
        "# now after we use the process model now we will use the bert model\r\n",
        "# the same thig we did with the process model we will do here\r\n",
        "bert_model = hub.KerasLayer(tfhub_handle_encoder)"
      ],
      "execution_count": 10,
      "outputs": []
    },
    {
      "cell_type": "code",
      "metadata": {
        "colab": {
          "base_uri": "https://localhost:8080/"
        },
        "id": "QHtTv7cpXl9e",
        "outputId": "8a2293b9-2d20-47af-b23b-47d4b51ef8f3"
      },
      "source": [
        "bert_results = bert_model(text_preprocessed)\r\n",
        "\r\n",
        "print(f'Loaded BERT: {tfhub_handle_encoder}')\r\n",
        "print(f'Pooled Outputs Shape:{bert_results[\"pooled_output\"].shape}')\r\n",
        "print(f'Pooled Outputs Values:{bert_results[\"pooled_output\"][0, :12]}')\r\n",
        "print(f'Sequence Outputs Shape:{bert_results[\"sequence_output\"].shape}')\r\n",
        "print(f'Sequence Outputs Values:{bert_results[\"sequence_output\"][0, :12]}')"
      ],
      "execution_count": 11,
      "outputs": [
        {
          "output_type": "stream",
          "text": [
            "Loaded BERT: https://tfhub.dev/tensorflow/small_bert/bert_en_uncased_L-4_H-512_A-8/1\n",
            "Pooled Outputs Shape:(1, 512)\n",
            "Pooled Outputs Values:[ 0.7626285   0.9928097  -0.18611872  0.36673838  0.15233651  0.65504503\n",
            "  0.9681153  -0.9486271   0.00216202 -0.98777324  0.06842704 -0.97630584]\n",
            "Sequence Outputs Shape:(1, 128, 512)\n",
            "Sequence Outputs Values:[[-0.2894633   0.3432127   0.3323149  ...  0.21300851  0.71020794\n",
            "  -0.05771134]\n",
            " [-0.28742072  0.31981015 -0.23018585 ...  0.58455116 -0.21329728\n",
            "   0.72692126]\n",
            " [-0.6615698   0.6887679  -0.87433    ...  0.10877296 -0.26173288\n",
            "   0.47855446]\n",
            " ...\n",
            " [-0.22561117 -0.28925592 -0.0706448  ...  0.47566015  0.8327718\n",
            "   0.4002533 ]\n",
            " [-0.29824197 -0.27473164 -0.05450563 ...  0.48849764  1.0955356\n",
            "   0.1816339 ]\n",
            " [-0.4437818   0.00930747  0.07223698 ...  0.17290133  1.1833245\n",
            "   0.0789803 ]]\n"
          ],
          "name": "stdout"
        }
      ]
    },
    {
      "cell_type": "code",
      "metadata": {
        "id": "JoCaMpmPrMM9"
      },
      "source": [
        "# now we will define the model\r\n",
        "def build_classifier_model():\r\n",
        "  text_input = tf.keras.layers.Input(shape=(), dtype=tf.string, name='text')\r\n",
        "  preprocessing_layer = hub.KerasLayer(tfhub_handle_preprocess, name='preprocessing')\r\n",
        "  encoder_inputs = preprocessing_layer(text_input)\r\n",
        "  encoder = hub.KerasLayer(tfhub_handle_encoder, trainable=True, name='BERT_encoder')\r\n",
        "  outputs = encoder(encoder_inputs)\r\n",
        "  net = outputs['pooled_output']\r\n",
        "  net = tf.keras.layers.Dropout(0.1)(net)\r\n",
        "  net = tf.keras.layers.Dense(1, activation=None, name='classifier')(net)\r\n",
        "  return tf.keras.Model(text_input, net)"
      ],
      "execution_count": 12,
      "outputs": []
    },
    {
      "cell_type": "code",
      "metadata": {
        "id": "BvzR5mgur2kb"
      },
      "source": [
        "classifier_model = build_classifier_model()"
      ],
      "execution_count": 19,
      "outputs": []
    },
    {
      "cell_type": "code",
      "metadata": {
        "colab": {
          "base_uri": "https://localhost:8080/",
          "height": 466
        },
        "id": "GE8W0Pb9sLz_",
        "outputId": "89c8b27e-925a-42f2-fe63-c63d57fc1cd3"
      },
      "source": [
        "# we can see the structur of the model\r\n",
        "tf.keras.utils.plot_model(classifier_model)"
      ],
      "execution_count": 14,
      "outputs": [
        {
          "output_type": "execute_result",
          "data": {
            "image/png": "[encoded data removed]",
            "text/plain": [
              "<IPython.core.display.Image object>"
            ]
          },
          "metadata": {
            "tags": []
          },
          "execution_count": 14
        }
      ]
    },
    {
      "cell_type": "code",
      "metadata": {
        "id": "tWKAWtlVsURh"
      },
      "source": [
        "# now let's tranin the model\r\n",
        "# but first let's define a loss function\r\n",
        "# Since this is a binary classification problem and the model outputs a probability\r\n",
        "#  (a single-unit layer), you'll use losses.BinaryCrossentropy loss function.\r\n",
        "loss = tf.keras.losses.BinaryCrossentropy(from_logits=True)\r\n",
        "metrics = tf.metrics.BinaryAccuracy()"
      ],
      "execution_count": 15,
      "outputs": []
    },
    {
      "cell_type": "code",
      "metadata": {
        "id": "3r_oDtrWsv2V"
      },
      "source": [
        "# now let's define the optimizer like the bert model is originally deifned\r\n",
        "epochs = 5\r\n",
        "steps_per_epoch = tf.data.experimental.cardinality(train_ds).numpy()\r\n",
        "num_train_steps = steps_per_epoch * epochs\r\n",
        "num_warmup_steps = int(0.1*num_train_steps)\r\n",
        "\r\n",
        "init_lr = 3e-5\r\n",
        "optimizer = optimization.create_optimizer(init_lr=init_lr,\r\n",
        "                                          num_train_steps=num_train_steps,\r\n",
        "                                          num_warmup_steps=num_warmup_steps,\r\n",
        "                                          optimizer_type='adamw')"
      ],
      "execution_count": 24,
      "outputs": []
    },
    {
      "cell_type": "code",
      "metadata": {
        "id": "eu6iViBPtzC8"
      },
      "source": [
        "# Loading the BERT model and training\r\n",
        "classifier_model.compile(optimizer=optimizer,\r\n",
        "                         loss=loss,\r\n",
        "                         metrics=metrics)\r\n"
      ],
      "execution_count": 25,
      "outputs": []
    },
    {
      "cell_type": "code",
      "metadata": {
        "colab": {
          "base_uri": "https://localhost:8080/"
        },
        "id": "P6RwIlAuuGir",
        "outputId": "ac1c1b04-398b-404f-89b2-8215fe12a017"
      },
      "source": [
        "# now let's make the fit or train the model\r\n",
        "print(f'Training model with {tfhub_handle_encoder}')\r\n",
        "history = classifier_model.fit(x=train_ds,\r\n",
        "                               validation_data=val_ds,\r\n",
        "                               epochs=epochs)"
      ],
      "execution_count": 26,
      "outputs": [
        {
          "output_type": "stream",
          "text": [
            "Training model with https://tfhub.dev/tensorflow/small_bert/bert_en_uncased_L-4_H-512_A-8/1\n",
            "Epoch 1/5\n",
            "625/625 [==============================] - 160s 251ms/step - loss: 0.5771 - binary_accuracy: 0.6233 - val_loss: 0.3884 - val_binary_accuracy: 0.8052\n",
            "Epoch 2/5\n",
            "625/625 [==============================] - 155s 249ms/step - loss: 0.3558 - binary_accuracy: 0.8372 - val_loss: 0.3931 - val_binary_accuracy: 0.8304\n",
            "Epoch 3/5\n",
            "625/625 [==============================] - 156s 250ms/step - loss: 0.2738 - binary_accuracy: 0.8830 - val_loss: 0.4079 - val_binary_accuracy: 0.8388\n",
            "Epoch 4/5\n",
            "625/625 [==============================] - 157s 251ms/step - loss: 0.2116 - binary_accuracy: 0.9165 - val_loss: 0.4442 - val_binary_accuracy: 0.8472\n",
            "Epoch 5/5\n",
            "625/625 [==============================] - 157s 251ms/step - loss: 0.1609 - binary_accuracy: 0.9369 - val_loss: 0.4850 - val_binary_accuracy: 0.8510\n"
          ],
          "name": "stdout"
        }
      ]
    },
    {
      "cell_type": "code",
      "metadata": {
        "colab": {
          "base_uri": "https://localhost:8080/"
        },
        "id": "dJBs85FLuobu",
        "outputId": "8cd7fc23-7bd0-448c-8bca-db60e32c141b"
      },
      "source": [
        "# Evaluate the model\r\n",
        "loss, accuracy = classifier_model.evaluate(test_ds)\r\n",
        "\r\n",
        "print(f'Loss: {loss}')\r\n",
        "print(f'Accuracy: {accuracy}')"
      ],
      "execution_count": 27,
      "outputs": [
        {
          "output_type": "stream",
          "text": [
            "782/782 [==============================] - 86s 110ms/step - loss: 0.4582 - binary_accuracy: 0.8554\n",
            "Loss: 0.45824694633483887\n",
            "Accuracy: 0.8554400205612183\n"
          ],
          "name": "stdout"
        }
      ]
    },
    {
      "cell_type": "code",
      "metadata": {
        "colab": {
          "base_uri": "https://localhost:8080/",
          "height": 438
        },
        "id": "a0BLqvwZuw2c",
        "outputId": "1611fbb4-6b9c-482e-fb6c-4a1a0d6c988e"
      },
      "source": [
        "# Plot the accuracy and loss over time\r\n",
        "history_dict = history.history\r\n",
        "print(history_dict.keys())\r\n",
        "\r\n",
        "acc = history_dict['binary_accuracy']\r\n",
        "val_acc = history_dict['val_binary_accuracy']\r\n",
        "loss = history_dict['loss']\r\n",
        "val_loss = history_dict['val_loss']\r\n",
        "\r\n",
        "epochs = range(1, len(acc) + 1)\r\n",
        "fig = plt.figure(figsize=(10, 6))\r\n",
        "fig.tight_layout()\r\n",
        "\r\n",
        "plt.subplot(2, 1, 1)\r\n",
        "# \"bo\" is for \"blue dot\"\r\n",
        "plt.plot(epochs, loss, 'r', label='Training loss')\r\n",
        "# b is for \"solid blue line\"\r\n",
        "plt.plot(epochs, val_loss, 'b', label='Validation loss')\r\n",
        "plt.title('Training and validation loss')\r\n",
        "# plt.xlabel('Epochs')\r\n",
        "plt.ylabel('Loss')\r\n",
        "plt.legend()\r\n",
        "\r\n",
        "plt.subplot(2, 1, 2)\r\n",
        "plt.plot(epochs, acc, 'r', label='Training acc')\r\n",
        "plt.plot(epochs, val_acc, 'b', label='Validation acc')\r\n",
        "plt.title('Training and validation accuracy')\r\n",
        "plt.xlabel('Epochs')\r\n",
        "plt.ylabel('Accuracy')\r\n",
        "plt.legend(loc='lower right')"
      ],
      "execution_count": 28,
      "outputs": [
        {
          "output_type": "stream",
          "text": [
            "dict_keys(['loss', 'binary_accuracy', 'val_loss', 'val_binary_accuracy'])\n"
          ],
          "name": "stdout"
        },
        {
          "output_type": "execute_result",
          "data": {
            "text/plain": [
              "<matplotlib.legend.Legend at 0x7f80053eeef0>"
            ]
          },
          "metadata": {
            "tags": []
          },
          "execution_count": 28
        },
        {
          "output_type": "display_data",
          "data": {
            "image/png": "[encoded data removed]",
            "text/plain": [
              "<Figure size 720x432 with 2 Axes>"
            ]
          },
          "metadata": {
            "tags": [],
            "needs_background": "light"
          }
        }
      ]
    },
    {
      "cell_type": "code",
      "metadata": {
        "colab": {
          "base_uri": "https://localhost:8080/"
        },
        "id": "vUyOn1BMv8RF",
        "outputId": "d0c8d528-7caa-48da-c110-6f281a35baf5"
      },
      "source": [
        "# now let's save the model\r\n",
        "dataset_name = 'imdb'\r\n",
        "saved_model_path = './{}_bert'.format(dataset_name.replace('/', '_'))\r\n",
        "\r\n",
        "classifier_model.save(saved_model_path, include_optimizer=False)"
      ],
      "execution_count": 29,
      "outputs": [
        {
          "output_type": "stream",
          "text": [
            "WARNING:absl:Found untraced functions such as restored_function_body, restored_function_body, restored_function_body, restored_function_body, restored_function_body while saving (showing 5 of 310). These functions will not be directly callable after loading.\n",
            "WARNING:absl:Found untraced functions such as restored_function_body, restored_function_body, restored_function_body, restored_function_body, restored_function_body while saving (showing 5 of 310). These functions will not be directly callable after loading.\n"
          ],
          "name": "stderr"
        }
      ]
    },
    {
      "cell_type": "code",
      "metadata": {
        "id": "cIYHf1N6wOtY"
      },
      "source": [
        "# now let's reload the model\r\n",
        "reloaded_model = tf.saved_model.load(saved_model_path)"
      ],
      "execution_count": 32,
      "outputs": []
    },
    {
      "cell_type": "code",
      "metadata": {
        "colab": {
          "base_uri": "https://localhost:8080/"
        },
        "id": "E-mROa8MwTY3",
        "outputId": "29bc298e-3f0c-407f-b7bb-931f4243c645"
      },
      "source": [
        "# let's create a function to see the acc of the model\r\n",
        "def print_my_examples(inputs, results):\r\n",
        "  result_for_printing = \\\r\n",
        "    [f'input: {inputs[i]:<30} : score: {results[i][0]:.6f}'\r\n",
        "                         for i in range(len(inputs))]\r\n",
        "  print(*result_for_printing, sep='\\n')\r\n",
        "  print()\r\n",
        "\r\n",
        "\r\n",
        "examples = [\r\n",
        "    'this is such an amazing movie!',  # this is the same sentence tried earlier\r\n",
        "    'The movie was great!',\r\n",
        "    'The movie was meh.',\r\n",
        "    'The movie was okish.',\r\n",
        "    'The movie was terrible...'\r\n",
        "]\r\n",
        "\r\n",
        "reloaded_results = tf.sigmoid(reloaded_model(tf.constant(examples)))\r\n",
        "original_results = tf.sigmoid(classifier_model(tf.constant(examples)))\r\n",
        "\r\n",
        "print('Results from the saved model:')\r\n",
        "print_my_examples(examples, reloaded_results)\r\n",
        "print('Results from the model in memory:')\r\n",
        "print_my_examples(examples, original_results)"
      ],
      "execution_count": 31,
      "outputs": [
        {
          "output_type": "stream",
          "text": [
            "Results from the saved model:\n",
            "input: this is such an amazing movie! : score: 0.999428\n",
            "input: The movie was great!           : score: 0.994326\n",
            "input: The movie was meh.             : score: 0.976239\n",
            "input: The movie was okish.           : score: 0.024771\n",
            "input: The movie was terrible...      : score: 0.000559\n",
            "\n",
            "Results from the model in memory:\n",
            "input: this is such an amazing movie! : score: 0.999428\n",
            "input: The movie was great!           : score: 0.994326\n",
            "input: The movie was meh.             : score: 0.976239\n",
            "input: The movie was okish.           : score: 0.024771\n",
            "input: The movie was terrible...      : score: 0.000559\n",
            "\n"
          ],
          "name": "stdout"
        }
      ]
    }
  ]
}