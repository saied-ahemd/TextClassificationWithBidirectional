{
  "nbformat": 4,
  "nbformat_minor": 0,
  "metadata": {
    "colab": {
      "name": "sentementClassificarionDeepLearning.ipynb",
      "provenance": [],
      "collapsed_sections": [],
      "authorship_tag": "ABX9TyPJLgO0d2BXOSrvdwatTttR",
      "include_colab_link": true
    },
    "kernelspec": {
      "name": "python3",
      "display_name": "Python 3"
    },
    "accelerator": "GPU"
  },
  "cells": [
    {
      "cell_type": "markdown",
      "metadata": {
        "id": "view-in-github",
        "colab_type": "text"
      },
      "source": [
        "<a href=\"https://colab.research.google.com/github/saied-ahemd/TextClassificationWithBidirectional/blob/main/sentementClassificarionDeepLearning.ipynb\" target=\"_parent\"><img src=\"https://colab.research.google.com/assets/colab-badge.svg\" alt=\"Open In Colab\"/></a>"
      ]
    },
    {
      "cell_type": "code",
      "metadata": {
        "id": "zUUqxC3_IAZC"
      },
      "source": [
        "import tensorflow as tf\r\n",
        "import tensorflow_datasets as tfds\r\n",
        "import numpy as np\r\n",
        "import matplotlib.pyplot as plt"
      ],
      "execution_count": null,
      "outputs": []
    },
    {
      "cell_type": "code",
      "metadata": {
        "id": "lKSd6SP4IDS2"
      },
      "source": [
        "dataset, info = tfds.load('imdb_reviews', with_info=True,as_supervised=True)\r\n",
        "# now let's get the train data and the test data\r\n",
        "train_set, test_set = dataset['train'], dataset['test']"
      ],
      "execution_count": null,
      "outputs": []
    },
    {
      "cell_type": "code",
      "metadata": {
        "id": "G1lFJFORIG-8"
      },
      "source": [
        "for example, label in train_set.take(1):\r\n",
        "  print('text: ', example.numpy())\r\n",
        "  print('label: ', label.numpy())"
      ],
      "execution_count": null,
      "outputs": []
    },
    {
      "cell_type": "code",
      "metadata": {
        "id": "G9QbFr7BJFjf"
      },
      "source": [
        "# now we will shuffle our data\r\n",
        "BUFFER_SIZE = 10000\r\n",
        "BATCH_SIZE = 64\r\n",
        "train_set = train_set.shuffle(BUFFER_SIZE).batch(BATCH_SIZE).prefetch(tf.data.experimental.AUTOTUNE)\r\n",
        "test_set = test_set.batch(BATCH_SIZE).prefetch(tf.data.experimental.AUTOTUNE)"
      ],
      "execution_count": null,
      "outputs": []
    },
    {
      "cell_type": "code",
      "metadata": {
        "id": "nMFVG1l9Jgt_"
      },
      "source": [
        "# now we will create the encoder \r\n",
        "VOCAB_SIZE=1000\r\n",
        "encoder = tf.keras.layers.experimental.preprocessing.TextVectorization(\r\n",
        "    max_tokens=VOCAB_SIZE)\r\n",
        "encoder.adapt(train_set.map(lambda text, label: text))"
      ],
      "execution_count": null,
      "outputs": []
    },
    {
      "cell_type": "code",
      "metadata": {
        "id": "JWEPd2TBd9uf"
      },
      "source": [
        "# now i we will create the model\r\n",
        "encoder_len = len(encoder.get_vocabulary())\r\n",
        "model = tf.keras.Sequential([\r\n",
        "                             encoder,\r\n",
        "                             tf.keras.layers.Embedding(encoder_len,64,mask_zero=True),\r\n",
        "                             tf.keras.layers.Bidirectional(tf.keras.layers.LSTM(64)),\r\n",
        "                             tf.keras.layers.Dense(64,activation='relu'),\r\n",
        "                             tf.keras.layers.Dense(1,activation='sigmoid')\r\n",
        "])\r\n"
      ],
      "execution_count": null,
      "outputs": []
    },
    {
      "cell_type": "code",
      "metadata": {
        "id": "uNgv-xnKfhEj"
      },
      "source": [
        "# let's compile our model\r\n",
        "model.compile(optimizer='adam',loss='binary_crossentropy',metrics=['acc'])"
      ],
      "execution_count": null,
      "outputs": []
    },
    {
      "cell_type": "code",
      "metadata": {
        "id": "svsFws57gPnj"
      },
      "source": [
        "his = model.fit(train_set,epochs=10,validation_data=test_set,validation_steps=30)"
      ],
      "execution_count": null,
      "outputs": []
    },
    {
      "cell_type": "code",
      "metadata": {
        "id": "0uVUyEqDh65B"
      },
      "source": [
        "# now we can eval our model\r\n",
        "test_loss, test_acc = model.evaluate(test_set)\r\n",
        "\r\n",
        "print('Test Loss: {}'.format(test_loss))\r\n",
        "print('Test Accuracy: {}'.format(test_acc))"
      ],
      "execution_count": null,
      "outputs": []
    },
    {
      "cell_type": "code",
      "metadata": {
        "id": "RFNrdD_0k38W"
      },
      "source": [
        "# now let's make a prediction \r\n",
        "# predict on a sample text without padding.\r\n",
        "\r\n",
        "sample_text = ('this movie was very good')\r\n",
        "predictions = model.predict(np.array([sample_text]))\r\n",
        "print(predictions)"
      ],
      "execution_count": null,
      "outputs": []
    },
    {
      "cell_type": "code",
      "metadata": {
        "id": "shnDzEFbljUg"
      },
      "source": [
        "# now we can plot the loss function and the acc \r\n",
        "def plot_graphs(history, metric):\r\n",
        "  plt.plot(history.history[metric])\r\n",
        "  plt.plot(history.history['val_'+metric], '')\r\n",
        "  plt.xlabel(\"Epochs\")\r\n",
        "  plt.ylabel(metric)\r\n",
        "  plt.legend([metric, 'val_'+metric])"
      ],
      "execution_count": null,
      "outputs": []
    },
    {
      "cell_type": "code",
      "metadata": {
        "id": "Er0eqQVplz06"
      },
      "source": [
        "plt.figure(figsize=(16,6))\r\n",
        "plt.subplot(1,2,1)\r\n",
        "plot_graphs(his, 'acc')\r\n",
        "plt.subplot(1,2,2)\r\n",
        "plot_graphs(his, 'loss')"
      ],
      "execution_count": null,
      "outputs": []
    }
  ]
}